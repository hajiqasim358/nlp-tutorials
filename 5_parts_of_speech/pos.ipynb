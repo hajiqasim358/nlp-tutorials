{
 "cells": [
  {
   "cell_type": "markdown",
   "id": "180ecc39",
   "metadata": {},
   "source": [
    "### Parts of Speech Tagging"
   ]
  },
  {
   "cell_type": "code",
   "execution_count": 21,
   "id": "3786a05a",
   "metadata": {},
   "outputs": [],
   "source": [
    "import spacy\n",
    "nlp = spacy.load(\"en_core_web_sm\")\n"
   ]
  },
  {
   "cell_type": "code",
   "execution_count": 22,
   "id": "2356e9e5",
   "metadata": {},
   "outputs": [
    {
     "data": {
      "text/plain": [
       "['tok2vec', 'tagger', 'parser', 'attribute_ruler', 'lemmatizer', 'ner']"
      ]
     },
     "execution_count": 22,
     "metadata": {},
     "output_type": "execute_result"
    }
   ],
   "source": [
    "nlp.pipe_names"
   ]
  },
  {
   "cell_type": "code",
   "execution_count": 23,
   "id": "a2ca8523",
   "metadata": {},
   "outputs": [
    {
     "name": "stdout",
     "output_type": "stream",
     "text": [
      "Elon  |  PROPN  |  proper noun\n",
      "flew  |  VERB  |  verb\n",
      "to  |  PART  |  particle\n",
      "mars  |  NOUN  |  noun\n",
      "in  |  ADP  |  adposition\n",
      "a  |  DET  |  determiner\n",
      "SpaceX  |  PROPN  |  proper noun\n",
      "rocket  |  NOUN  |  noun\n",
      "yesterday.he  |  NUM  |  numeral\n",
      "carried  |  VERB  |  verb\n",
      "a  |  DET  |  determiner\n",
      "bag  |  NOUN  |  noun\n",
      "of  |  ADP  |  adposition\n",
      "money  |  NOUN  |  noun\n",
      "with  |  ADP  |  adposition\n",
      "him  |  PRON  |  pronoun\n",
      ".  |  PUNCT  |  punctuation\n"
     ]
    }
   ],
   "source": [
    "doc = nlp(\"Elon flew to mars in a SpaceX rocket yesterday.he carried a bag of money with him.\")\n",
    "for token in doc:\n",
    "    print(token,  \" | \", token.pos_, \" | \", spacy.explain(token.pos_))"
   ]
  },
  {
   "cell_type": "code",
   "execution_count": 24,
   "id": "b5ecc7b6",
   "metadata": {},
   "outputs": [
    {
     "name": "stdout",
     "output_type": "stream",
     "text": [
      "Wow  |  INTJ  |  interjection UH  |  interjection\n",
      "!  |  PUNCT  |  punctuation .  |  punctuation mark, sentence closer\n",
      "Dr.  |  PROPN  |  proper noun NNP  |  noun, proper singular\n",
      "Strange  |  PROPN  |  proper noun NNP  |  noun, proper singular\n",
      "made  |  VERB  |  verb VBD  |  verb, past tense\n",
      "250  |  NUM  |  numeral CD  |  cardinal number\n",
      "million  |  NUM  |  numeral CD  |  cardinal number\n",
      "dollars  |  NOUN  |  noun NNS  |  noun, plural\n",
      "in  |  ADP  |  adposition IN  |  conjunction, subordinating or preposition\n",
      "a  |  DET  |  determiner DT  |  determiner\n",
      "single  |  ADJ  |  adjective JJ  |  adjective (English), other noun-modifier (Chinese)\n",
      "day  |  NOUN  |  noun NN  |  noun, singular or mass\n",
      ",  |  PUNCT  |  punctuation ,  |  punctuation mark, comma\n",
      "that  |  PRON  |  pronoun DT  |  determiner\n",
      "'s  |  AUX  |  auxiliary VBZ  |  verb, 3rd person singular present\n",
      "mind  |  NOUN  |  noun NN  |  noun, singular or mass\n",
      "-  |  PUNCT  |  punctuation HYPH  |  punctuation mark, hyphen\n",
      "blowing  |  VERB  |  verb VBG  |  verb, gerund or present participle\n",
      ".  |  PUNCT  |  punctuation .  |  punctuation mark, sentence closer\n",
      "He  |  PRON  |  pronoun PRP  |  pronoun, personal\n",
      "is  |  AUX  |  auxiliary VBZ  |  verb, 3rd person singular present\n",
      "the  |  DET  |  determiner DT  |  determiner\n",
      "best  |  ADJ  |  adjective JJS  |  adjective, superlative\n",
      "superhero  |  NOUN  |  noun NN  |  noun, singular or mass\n",
      "ever  |  ADV  |  adverb RB  |  adverb\n",
      "!  |  PUNCT  |  punctuation .  |  punctuation mark, sentence closer\n"
     ]
    }
   ],
   "source": [
    "doc = nlp(\"Wow! Dr. Strange made 250 million dollars in a single day, that's mind-blowing. He is the best superhero ever!\")\n",
    "\n",
    "for token in doc:\n",
    "    print(token, \" | \", token.pos_, \" | \", spacy.explain(token.pos_),\n",
    "    token.tag_, \" | \", spacy.explain(token.tag_))"
   ]
  },
  {
   "cell_type": "code",
   "execution_count": 25,
   "id": "4500ffcf",
   "metadata": {},
   "outputs": [
    {
     "name": "stdout",
     "output_type": "stream",
     "text": [
      "quit  |  VBD  |  verb, past tense\n"
     ]
    }
   ],
   "source": [
    "doc = nlp(\"he quit the job.\")\n",
    "doc[1]\n",
    "\n",
    "print(doc[1].text, \" | \", doc[1].tag_ ,\" | \", spacy.explain(doc[1].tag_))"
   ]
  },
  {
   "cell_type": "code",
   "execution_count": 26,
   "id": "f3b1f8c9",
   "metadata": {},
   "outputs": [],
   "source": [
    "earnings_text=\"\"\"Microsoft Corp. today announced the following results for the quarter ended December 31, 2021, as compared to the corresponding period of last fiscal year:\n",
    "\n",
    "·         Revenue was $51.7 billion and increased 20%\n",
    "·         Operating income was $22.2 billion and increased 24%\n",
    "·         Net income was $18.8 billion and increased 21%\n",
    "·         Diluted earnings per share was $2.48 and increased 22%\n",
    "“Digital technology is the most malleable resource at the world’s disposal to overcome constraints and reimagine everyday work and life,” said Satya Nadella, chairman and chief executive officer of Microsoft. “As tech as a percentage of global GDP continues to increase, we are innovating and investing across diverse and growing markets, with a common underlying technology stack and an operating model that reinforces a common strategy, culture, and sense of purpose.”\n",
    "“Solid commercial execution, represented by strong bookings growth driven by long-term Azure commitments, increased Microsoft Cloud revenue to $22.1 billion, up 32% year over year” said Amy Hood, executive vice president and chief financial officer of Microsoft.\"\"\"\n",
    "\n"
   ]
  },
  {
   "cell_type": "markdown",
   "id": "d529e6e8",
   "metadata": {},
   "source": [
    "### Removing extra unwanted data form the above text"
   ]
  },
  {
   "cell_type": "code",
   "execution_count": 31,
   "id": "3e51df37",
   "metadata": {},
   "outputs": [],
   "source": [
    "doc = nlp(earnings_text)\n",
    "filtered_tokens = []\n",
    "for token in doc:\n",
    "    if token.pos_ not in[\"SPACE\", \"x\", \"PUNCT\"]:\n",
    "        filtered_tokens.append(token)"
   ]
  },
  {
   "cell_type": "code",
   "execution_count": 33,
   "id": "eb4d62ce",
   "metadata": {},
   "outputs": [
    {
     "data": {
      "text/plain": [
       "[Microsoft,\n",
       " Corp.,\n",
       " today,\n",
       " announced,\n",
       " the,\n",
       " following,\n",
       " results,\n",
       " for,\n",
       " the,\n",
       " quarter,\n",
       " ended,\n",
       " December,\n",
       " 31,\n",
       " 2021,\n",
       " as,\n",
       " compared,\n",
       " to,\n",
       " the,\n",
       " corresponding,\n",
       " period]"
      ]
     },
     "execution_count": 33,
     "metadata": {},
     "output_type": "execute_result"
    }
   ],
   "source": [
    "filtered_tokens[:20]"
   ]
  },
  {
   "cell_type": "code",
   "execution_count": 35,
   "id": "99893b19",
   "metadata": {},
   "outputs": [
    {
     "data": {
      "text/plain": [
       "{96: 15,\n",
       " 92: 45,\n",
       " 100: 23,\n",
       " 90: 9,\n",
       " 85: 16,\n",
       " 93: 16,\n",
       " 97: 27,\n",
       " 98: 1,\n",
       " 84: 20,\n",
       " 103: 10,\n",
       " 87: 6,\n",
       " 99: 5,\n",
       " 89: 12,\n",
       " 86: 3,\n",
       " 94: 3,\n",
       " 95: 2}"
      ]
     },
     "execution_count": 35,
     "metadata": {},
     "output_type": "execute_result"
    }
   ],
   "source": [
    "count = doc.count_by(spacy.attrs.POS)\n",
    "count\n"
   ]
  },
  {
   "cell_type": "code",
   "execution_count": 40,
   "id": "987cd7fb",
   "metadata": {},
   "outputs": [
    {
     "data": {
      "text/plain": [
       "'PROPN'"
      ]
     },
     "execution_count": 40,
     "metadata": {},
     "output_type": "execute_result"
    }
   ],
   "source": [
    "doc.vocab[96].text\n"
   ]
  },
  {
   "cell_type": "code",
   "execution_count": 45,
   "id": "e2c726b0",
   "metadata": {},
   "outputs": [
    {
     "name": "stdout",
     "output_type": "stream",
     "text": [
      "PROPN  |  15\n",
      "NOUN  |  45\n",
      "VERB  |  23\n",
      "DET  |  9\n",
      "ADP  |  16\n",
      "NUM  |  16\n",
      "PUNCT  |  27\n",
      "SCONJ  |  1\n",
      "ADJ  |  20\n",
      "SPACE  |  10\n",
      "AUX  |  6\n",
      "SYM  |  5\n",
      "CCONJ  |  12\n",
      "ADV  |  3\n",
      "PART  |  3\n",
      "PRON  |  2\n"
     ]
    }
   ],
   "source": [
    "# load all the words in the vocab using for loop\n",
    "for k, v in count.items():\n",
    "    print(doc.vocab[k].text, \" | \", v)"
   ]
  },
  {
   "cell_type": "code",
   "execution_count": null,
   "id": "2cf632f8",
   "metadata": {},
   "outputs": [
    {
     "data": {
      "text/plain": [
       "'SYM'"
      ]
     },
     "execution_count": 42,
     "metadata": {},
     "output_type": "execute_result"
    }
   ],
   "source": []
  }
 ],
 "metadata": {
  "kernelspec": {
   "display_name": "TF_env",
   "language": "python",
   "name": "python3"
  },
  "language_info": {
   "codemirror_mode": {
    "name": "ipython",
    "version": 3
   },
   "file_extension": ".py",
   "mimetype": "text/x-python",
   "name": "python",
   "nbconvert_exporter": "python",
   "pygments_lexer": "ipython3",
   "version": "3.12.11"
  }
 },
 "nbformat": 4,
 "nbformat_minor": 5
}
