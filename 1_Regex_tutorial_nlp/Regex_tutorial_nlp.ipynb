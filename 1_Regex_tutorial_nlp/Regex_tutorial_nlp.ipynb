{
 "cells": [
  {
   "cell_type": "markdown",
   "id": "7a0c2fad",
   "metadata": {},
   "source": [
    "#### regex101.com for checking your regular expression"
   ]
  },
  {
   "cell_type": "code",
   "execution_count": 2,
   "id": "9250b694",
   "metadata": {},
   "outputs": [],
   "source": [
    "# import Regular expressions\n",
    "import re"
   ]
  },
  {
   "cell_type": "code",
   "execution_count": null,
   "id": "8837564d",
   "metadata": {},
   "outputs": [
    {
     "data": {
      "text/plain": [
       "['abc@gmail.com']"
      ]
     },
     "execution_count": 13,
     "metadata": {},
     "output_type": "execute_result"
    }
   ],
   "source": [
    "chat1 = 'hey! you asked a lot of questions right, this is my phone 924343433343, and my email is abc@gmail.com'\n",
    "chat2 = 'Yes i did, here is mine also (233)-444-3434 and abc@gmail.com'\n",
    "chat3 = 'yes phone (233)-444-3434 and abc@gmail.com'\n",
    "\n",
    "# pattern to find phone numbers\n",
    "pattern1 = r'\\(?\\d{3}\\)?-?\\s?\\d{3}-?\\d{4}'\n",
    "\n",
    "matches = re.findall(pattern1, chat1)\n",
    "print(matches)\n",
    "\n",
    "# pattern to find email addresses\n",
    "pattern2 = r'[a-zA-Z0-9._%+-]+@[a-zA-Z0-9.-]+\\.[a-zA-Z]{2,}'\n",
    "\n",
    "match = re.findall(pattern2, chat1)\n",
    "match"
   ]
  }
 ],
 "metadata": {
  "kernelspec": {
   "display_name": "TF_env",
   "language": "python",
   "name": "python3"
  },
  "language_info": {
   "codemirror_mode": {
    "name": "ipython",
    "version": 3
   },
   "file_extension": ".py",
   "mimetype": "text/x-python",
   "name": "python",
   "nbconvert_exporter": "python",
   "pygments_lexer": "ipython3",
   "version": "3.12.11"
  }
 },
 "nbformat": 4,
 "nbformat_minor": 5
}
